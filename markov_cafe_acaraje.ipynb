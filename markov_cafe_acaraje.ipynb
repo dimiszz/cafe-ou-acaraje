{
 "cells": [
  {
   "cell_type": "markdown",
   "id": "49776fce-5605-416d-923b-06315ac2e0f1",
   "metadata": {},
   "source": [
    "## Cadeias de Markov em: Café ou Acarajé\n",
    "\n",
    "No início desse relatório, temos as funções que serão usadas ao decorrer da solução.\n",
    "\n",
    "Aqui temos duas soluções: uma calculando o M.L.E de 50 dados (onde o dado procurado está entre eles) e escolhendo o que possui o maior e a segunda pela técnica de Stochastic Hill Climbing."
   ]
  },
  {
   "cell_type": "code",
   "execution_count": 643,
   "id": "19e7eafc-17fa-42c0-a269-e9cf2d32bb4b",
   "metadata": {},
   "outputs": [],
   "source": [
    "import numpy as np\n",
    "from random import random\n",
    "from time import sleep\n",
    "\n",
    "# Função que gera um array de 6 posições com números aleatórios\n",
    "def generate_random_dice():\n",
    "    numbers = np.array([0, 0, 0, 0, 0, 0], dtype=float)\n",
    "    for i in range(len(numbers)):\n",
    "        numbers[i] = random()\n",
    "    sum_numbers = sum(numbers)\n",
    "    for i in range(len(numbers)):\n",
    "        numbers[i] = numbers[i] / sum_numbers\n",
    "    return numbers\n",
    "\n",
    "# Função que imprime uma matriz\n",
    "# matrix: matriz a ser impressa\n",
    "def print_matriz(matrix):\n",
    "        # Criar labels para as linhas\n",
    "    labels = np.arange(1, matrix.shape[0] + 1)\n",
    "\n",
    "    # Imprimir labels das colunas\n",
    "    print(\"   \", end=\"\")\n",
    "    for j in range(matrix.shape[1]):\n",
    "        print(f\"{j+1:5}\", end=\"\")\n",
    "    print()\n",
    "\n",
    "    # Imprimir matriz com labels das linhas\n",
    "    for i in range(matrix.shape[0]):\n",
    "        print(f\"{labels[i]:2} |\", end=\"\")\n",
    "        for j in range(matrix.shape[1]):\n",
    "            print(f\"{matrix[i, j]:5.2f}\", end=\"\")\n",
    "        print()\n",
    "\n",
    "# Roda o algoritmo de Markov\n",
    "# matrix: matriz de transição inicial\n",
    "# quantidade: passos de Markov\n",
    "# printar: se True, imprime as matrizes intermediárias\n",
    "def rodar_markov(matrix, quantidade, printar=True):\n",
    "    actual = matrix\n",
    "    if printar:\n",
    "        print(f\"MATRIZ {1} POSIÇÃO:\")\n",
    "        print_matriz(actual)\n",
    "    for i in range(1, quantidade):\n",
    "        if printar:\n",
    "            print()\n",
    "            print(f\"MATRIZ {i+1} POSIÇÃO:\")\n",
    "        actual = np.dot(actual, matrix)\n",
    "        if printar:\n",
    "            print_matriz(actual)\n",
    "    return actual\n",
    "\n",
    "# Cria uma matriz considerando as regras do jogo Café ou Acarajé\n",
    "# array: array com as probabilidades de cada dado\n",
    "def create_matrix(array):\n",
    "    return np.array([\n",
    "    [ 0 , array[0], array[1], array[2], array[3]+array[5], array[4], 0],\n",
    "    [ 0 , 0, array[0], array[1]+array[5], array[2]+array[4], array[3], 0],\n",
    "    [ 0 , 0, array[5], array[0]+array[4], array[1]+array[3], array[2], 0],\n",
    "    [ 0 , 0, 0, 0, 0, 0, 1],\n",
    "    [array[5], array[4], array[3], array[2], array[1], array[0], 0],\n",
    "    [0, 0, 0, 0, 0, 0, 1],\n",
    "    [0, 0, 0, 0, 0, 0, 0]\n",
    "])\n",
    "\n",
    "def printar_dados(array):\n",
    "    print(f\"1: {array[0]:.2f} \\t 2: {array[1]:.2f}\\t\",\n",
    "    f\"3: {array[2]:.2f} \\t 4: {array[3]:.2f} \\t\"\n",
    "    f\"5: {array[4]:.2f} \\t 6: {array[5]:.2f}\")\n",
    "\n",
    "def jogar_dados(quantidade, probabilities):\n",
    "    data = []\n",
    "    if abs(probabilities.sum() - 1) > 0.001:\n",
    "        raise ValueError(\"Probabilidades devem somar 1\")\n",
    "    for i in range(quantidade):\n",
    "        posicao = 1\n",
    "        count = 0\n",
    "        while True:\n",
    "            if posicao == 4 or posicao == 6:\n",
    "                break\n",
    "            count += 1\n",
    "            dado = np.random.choice([1, 2, 3, 4, 5, 6], p=probabilities)\n",
    "            if dado + posicao <= 6:\n",
    "                posicao += dado\n",
    "            else:\n",
    "                posicao = 12 - dado - posicao\n",
    "        cafe_ou_acaraje = \"Café\" if posicao == 4 else \"Acarajé\"\n",
    "        data.append((count, cafe_ou_acaraje))\n",
    "    return data\n",
    "\n",
    "def arrays_sao_iguais(array1, array2):\n",
    "    # Verifica se os tamanhos são iguais\n",
    "    if len(array1) != len(array2):\n",
    "        return False\n",
    "    \n",
    "    # Compara os elementos\n",
    "    for i in range(len(array1)):\n",
    "        if array1[i] != array2[i]:\n",
    "            return False\n",
    "    \n",
    "    return True\n",
    "\n",
    "def barrinha(actual, max_value):\n",
    "    kamin = actual// (int) (max_value*0.1)\n",
    "    tepan = (max_value-actual)// (int) (max_value*0.1)\n",
    "    print(kamin * '=' + \">\" +  tepan * '#', end=\"\\r\")"
   ]
  },
  {
   "cell_type": "code",
   "execution_count": 640,
   "id": "70476650-6818-4613-9b80-c4b4e6928585",
   "metadata": {},
   "outputs": [],
   "source": [
    "import numpy as np\n",
    "from time import sleep\n",
    "from random import random, choice\n",
    "from collections import Counter\n",
    "from matplotlib import pyplot as plt"
   ]
  },
  {
   "cell_type": "markdown",
   "id": "b3c9abb1-db37-4c64-8d0d-568871e5e256",
   "metadata": {},
   "source": [
    "### Escolhendo entre dados"
   ]
  },
  {
   "cell_type": "code",
   "execution_count": 601,
   "id": "259e4bad-4d60-433a-bd19-5201ea719c15",
   "metadata": {},
   "outputs": [],
   "source": [
    "quantidade_passos = 50\n",
    "plot_y = np.zeros(quantidade_passos)\n",
    "plot_x = np.zeros(quantidade_passos)\n",
    "\n",
    "quantidade_de_dados = 10\n",
    "passo = 2"
   ]
  },
  {
   "cell_type": "code",
   "execution_count": 603,
   "id": "4a4cf9ad-9fb7-4fba-a51c-2c38526c4320",
   "metadata": {},
   "outputs": [
    {
     "name": "stdout",
     "output_type": "stream",
     "text": [
      "==========>\r"
     ]
    }
   ],
   "source": [
    "for k in range(1,quantidade_passos+1):\n",
    "    acertos = 0\n",
    "    for i in range(50):\n",
    "        \n",
    "        dados = []\n",
    "        for i in range(quantidade_de_dados):\n",
    "            dados.append(generate_random_dice())\n",
    "        \n",
    "        dado_escolhido = choice(dados)\n",
    "        \n",
    "        jogadas = jogar_dados(passo*k, probabilities=dado_escolhido)\n",
    "        \n",
    "        jogadas_unicas = Counter(jogadas)\n",
    "        \n",
    "        loglikelihoods = np.zeros(len(dados))\n",
    "        \n",
    "        for (quantidade, label), value in jogadas_unicas.items():\n",
    "            label = 3 if label == \"Café\" else 5\n",
    "            for index, dice in enumerate(dados):\n",
    "                markov = rodar_markov(create_matrix(dice), quantidade=quantidade, printar=False)\n",
    "                loglikelihoods[index] += np.log(markov[0][label]) * value\n",
    "        \n",
    "        max_index = np.argmax(loglikelihoods)\n",
    "\n",
    "        if arrays_sao_iguais(dados[max_index], dado_escolhido):\n",
    "            acertos += 1\n",
    "    plot_y[k-1] = acertos/50\n",
    "    plot_x[k-1] = passo*k\n",
    "\n",
    "    barrinha(k, quantidade_passos)"
   ]
  },
  {
   "cell_type": "code",
   "execution_count": 218,
   "id": "c2be0280-e3bb-40de-b7e8-b8a35e8a4a23",
   "metadata": {},
   "outputs": [
    {
     "data": {
      "text/plain": [
       "[<matplotlib.lines.Line2D at 0x2c5958fbd90>]"
      ]
     },
     "execution_count": 218,
     "metadata": {},
     "output_type": "execute_result"
    },
    {
     "data": {
      "image/png": "[encoded data removed]",
      "text/plain": [
       "<Figure size 640x480 with 1 Axes>"
      ]
     },
     "metadata": {},
     "output_type": "display_data"
    }
   ],
   "source": [
    "plt.title(f\"Passo {passo}, Quantidade de passos{quantidade_passos}\")\n",
    "plt.xlabel(\"quantidade de jogadas\")\n",
    "plt.ylabel(\"Frequencia de acertos\")\n",
    "plt.plot(plot_x,plot_y)"
   ]
  },
  {
   "cell_type": "code",
   "execution_count": 220,
   "id": "f16684f4-cde7-4ee2-a039-a6c280983e0c",
   "metadata": {},
   "outputs": [
    {
     "name": "stdout",
     "output_type": "stream",
     "text": [
      "[  2.   4.   6.   8.  10.  12.  14.  16.  18.  20.  22.  24.  26.  28.\n",
      "  30.  32.  34.  36.  38.  40.  42.  44.  46.  48.  50.  52.  54.  56.\n",
      "  58.  60.  62.  64.  66.  68.  70.  72.  74.  76.  78.  80.  82.  84.\n",
      "  86.  88.  90.  92.  94.  96.  98. 100.]\n",
      "[0.44 0.48 0.66 0.72 0.74 0.64 0.72 0.8  0.8  0.76 0.84 0.84 0.78 0.78\n",
      " 0.88 0.82 0.84 0.82 0.84 0.8  0.9  0.92 0.86 0.94 0.86 0.88 0.94 0.9\n",
      " 0.88 0.88 0.96 0.94 0.9  0.9  0.9  0.96 0.94 1.   0.96 0.98 0.94 0.96\n",
      " 0.98 0.92 0.94 0.96 0.98 0.94 0.9  0.92]\n"
     ]
    }
   ],
   "source": [
    "print(plot_x)\n",
    "print(plot_y)"
   ]
  },
  {
   "cell_type": "markdown",
   "id": "6b1ccf90-b7cf-4f5d-afc3-bc305066b46b",
   "metadata": {},
   "source": [
    "### Hill Climbing\n",
    "Nos blocos abaixo, usaremos a técnica chamada Stochastic Hill Climbing para conseguir chegar no melhor Likelihood e estimar o melhor dado. O primeiro bloco simplesmente gera um dado aleatório e joga com ele para gerar dados iniciais."
   ]
  },
  {
   "cell_type": "code",
   "execution_count": 652,
   "id": "119666a5-30dc-4d95-bc2d-d5b73798d4be",
   "metadata": {},
   "outputs": [],
   "source": [
    "dado_a_ser_procurado = generate_random_dice()"
   ]
  },
  {
   "cell_type": "code",
   "execution_count": 654,
   "id": "9171e425-da90-4491-86fc-5029601e3de0",
   "metadata": {},
   "outputs": [
    {
     "data": {
      "text/plain": [
       "Counter({(2, 'Café'): 148,\n",
       "         (2, 'Acarajé'): 125,\n",
       "         (1, 'Acarajé'): 101,\n",
       "         (3, 'Café'): 99,\n",
       "         (3, 'Acarajé'): 87,\n",
       "         (1, 'Café'): 68,\n",
       "         (4, 'Café'): 58,\n",
       "         (4, 'Acarajé'): 50,\n",
       "         (5, 'Acarajé'): 47,\n",
       "         (6, 'Café'): 41,\n",
       "         (5, 'Café'): 34,\n",
       "         (7, 'Acarajé'): 25,\n",
       "         (6, 'Acarajé'): 21,\n",
       "         (7, 'Café'): 20,\n",
       "         (9, 'Café'): 12,\n",
       "         (10, 'Café'): 11,\n",
       "         (8, 'Acarajé'): 11,\n",
       "         (8, 'Café'): 10,\n",
       "         (10, 'Acarajé'): 6,\n",
       "         (9, 'Acarajé'): 5,\n",
       "         (11, 'Café'): 5,\n",
       "         (12, 'Café'): 4,\n",
       "         (11, 'Acarajé'): 3,\n",
       "         (13, 'Café'): 3,\n",
       "         (14, 'Café'): 2,\n",
       "         (18, 'Acarajé'): 1,\n",
       "         (15, 'Acarajé'): 1,\n",
       "         (23, 'Café'): 1,\n",
       "         (20, 'Café'): 1})"
      ]
     },
     "execution_count": 654,
     "metadata": {},
     "output_type": "execute_result"
    }
   ],
   "source": [
    "jogadas = jogar_dados(1000, probabilities=dado_a_ser_procurado)\n",
    "jogadas_unicas = Counter(jogadas)\n",
    "jogadas_unicas"
   ]
  },
  {
   "cell_type": "markdown",
   "id": "ea520120-2ad0-49d7-aecd-6a8d9542969d",
   "metadata": {},
   "source": [
    "No próximo bloco possuimos 2 funções extremamente importante para a técnica: calcular o log likelihood e a de gerar o próximo vizinho. A primeira será a nossa medida para definir qual vizinho é melhor e a segunda gera um vizinho aleatório na vizinhança."
   ]
  },
  {
   "cell_type": "code",
   "execution_count": 656,
   "id": "c243f37a-61f0-4323-bec8-fe8aeacc6604",
   "metadata": {},
   "outputs": [],
   "source": [
    "def calcular_log_likelihood(jogadas, dado):\n",
    "    loglikelihood = 0\n",
    "    for (quantidade, label), value in jogadas.items():\n",
    "        label = 3 if label == \"Café\" else 5\n",
    "        markov = rodar_markov(create_matrix(dado), quantidade=quantidade, printar=False)\n",
    "        loglikelihood += np.log(markov[0][label]) * value\n",
    "    return loglikelihood\n",
    "\n",
    "def generate_neighbor(probabilities, step_size=0.05):\n",
    "    neighbor = probabilities.copy()\n",
    "    n = len(neighbor)\n",
    "    \n",
    "    i, j = np.random.choice(n, 2, replace=False)\n",
    "    \n",
    "    adjustment = np.random.uniform(-step_size, step_size)\n",
    "\n",
    "    if neighbor[i] + adjustment < 0 or neighbor[j] - adjustment < 0:\n",
    "        adjustment = -adjustment\n",
    "\n",
    "    # Apply the adjustment\n",
    "    neighbor[i] += adjustment\n",
    "    neighbor[j] -= adjustment\n",
    "\n",
    "    # Ensure the resulting probabilities sum to 1\n",
    "    assert np.isclose(sum(neighbor), 1.0), \"Probabilities do not sum to 1\"\n",
    "    \n",
    "    return neighbor"
   ]
  },
  {
   "cell_type": "markdown",
   "id": "7e89e15a-6344-44c3-a0ad-6d8cd3ec834a",
   "metadata": {},
   "source": [
    "Agora, fazemos a execução o Hill Climbing. Escolhemos um dado aleatório para começar nossa busca e a iniciamos da seguinte maneira: calculamos o seu M.L.E. e de  um vizinho. Se o M.L.E do vizinho for maior, ele vira o nosso alvo atual. E assim continuamos até termos testado 100 vizinhos (não necessariamente andado por todos)."
   ]
  },
  {
   "cell_type": "code",
   "execution_count": 661,
   "id": "9bde92c7-bbf8-4c51-90f1-90ba4113f611",
   "metadata": {},
   "outputs": [],
   "source": [
    "from numpy.random import rand\n",
    "\n",
    "initial_dice = generate_random_dice()\n",
    "\n",
    "melhor_loglikelihood = calcular_log_likelihood(jogadas_unicas, initial_dice)\n",
    "\n",
    "for i in range(100):\n",
    "    vizinho = generate_neighbor(initial_dice)\n",
    "    outro_loglikelihood = calcular_log_likelihood(jogadas_unicas, vizinho)\n",
    "    \n",
    "    if outro_loglikelihood > melhor_loglikelihood:\n",
    "        melhor_loglikelihood = outro_loglikelihood\n",
    "        initial_dice = vizinho\n",
    "    #print(melhor_loglikelihood)"
   ]
  },
  {
   "cell_type": "markdown",
   "id": "dc579332-c800-4fd0-9f3c-7a1cf44fb48c",
   "metadata": {},
   "source": [
    "Nessa parte, fazemos o mesmo hill climbing porém para n dados iniciais diferentes, com o objetivo de fugir de máximos locais e planos."
   ]
  },
  {
   "cell_type": "code",
   "execution_count": 664,
   "id": "1640f72b-04ab-41ee-8381-dbc3bf574798",
   "metadata": {},
   "outputs": [
    {
     "name": "stdout",
     "output_type": "stream",
     "text": [
      "===================>\r"
     ]
    },
    {
     "name": "stderr",
     "output_type": "stream",
     "text": [
      "C:\\Users\\dimit\\AppData\\Local\\Temp\\ipykernel_26120\\3528301384.py:6: RuntimeWarning: invalid value encountered in log\n",
      "  loglikelihood += np.log(markov[0][label]) * value\n"
     ]
    }
   ],
   "source": [
    "from numpy.random import rand\n",
    "\n",
    "dados = []\n",
    "loglikelihoods = []\n",
    "\n",
    "for k in range(100):\n",
    "    initial_dice = generate_random_dice()\n",
    "    \n",
    "    melhor_loglikelihood = calcular_log_likelihood(jogadas_unicas, initial_dice)\n",
    "    \n",
    "    for i in range(50):\n",
    "        vizinho = generate_neighbor(initial_dice)\n",
    "        outro_loglikelihood = calcular_log_likelihood(jogadas_unicas, vizinho)\n",
    "        \n",
    "        if outro_loglikelihood > melhor_loglikelihood:\n",
    "            melhor_loglikelihood = outro_loglikelihood\n",
    "            initial_dice = vizinho\n",
    "    dados.append(initial_dice)\n",
    "    loglikelihoods.append(melhor_loglikelihood)\n",
    "    barrinha(k, quantidade_passos)"
   ]
  },
  {
   "cell_type": "code",
   "execution_count": 680,
   "id": "26894c9a-6d7f-4ad1-87cd-4134a6a801f0",
   "metadata": {},
   "outputs": [
    {
     "name": "stdout",
     "output_type": "stream",
     "text": [
      "M.L.E. encontrada:\t\t -2760.4419034264984 \t [0.17045984 0.202712   0.07255243 0.26937238 0.10303767 0.18186568]\n",
      "M.L.E. do dado procurado:\t -2761.477302308788 \t [0.18127528 0.22974404 0.07253418 0.25904178 0.10762235 0.14978237]\n"
     ]
    }
   ],
   "source": [
    "max_index = loglikelihoods.index(max(loglikelihoods))\n",
    "\n",
    "print(\"M.L.E. encontrada:\\t\\t\", max(loglikelihoods), \"\\t\" , dados[max_index])\n",
    "print(\"M.L.E. do dado procurado:\\t\", calcular_log_likelihood(jogadas_unicas, dado_a_ser_procurado),\"\\t\" , dado_a_ser_procurado)"
   ]
  },
  {
   "cell_type": "code",
   "execution_count": 687,
   "id": "bdbfaef8-c9af-4495-92b4-3058cb044eff",
   "metadata": {},
   "outputs": [
    {
     "name": "stdout",
     "output_type": "stream",
     "text": [
      "Diferença de Log-Likelihood: 1.035398882289428\n",
      "Distância Euclidiana: 0.04477482364289146\n",
      "Divergência de Kullback-Leibler: 0.005377288260761219\n"
     ]
    }
   ],
   "source": [
    "import numpy as np\n",
    "from scipy.stats import entropy\n",
    "\n",
    "# Log-likelihood values\n",
    "mle_encontrada = max(loglikelihoods)\n",
    "mle_dado_procurado = calcular_log_likelihood(jogadas_unicas, dado_a_ser_procurado)\n",
    "\n",
    "# Probability distributions\n",
    "prob_encontrada = dados[max_index]\n",
    "prob_dado_procurado = dado_a_ser_procurado\n",
    "\n",
    "# Diferença de Log-Likelihood\n",
    "delta_ll = abs(mle_encontrada - mle_dado_procurado)\n",
    "print(f\"Diferença de Log-Likelihood: {delta_ll}\")\n",
    "\n",
    "# Distância Euclidiana\n",
    "dist_euclidiana = np.linalg.norm(prob_encontrada - prob_dado_procurado)\n",
    "print(f\"Distância Euclidiana: {dist_euclidiana}\")\n",
    "\n",
    "# Divergência de Kullback-Leibler\n",
    "kl_divergence = entropy(prob_dado_procurado, prob_encontrada)\n",
    "print(f\"Divergência de Kullback-Leibler: {kl_divergence}\")"
   ]
  },
  {
   "cell_type": "markdown",
   "id": "5452a5ba-8cda-4c16-9f4c-83fd9b5d0418",
   "metadata": {},
   "source": [
    "### Referências\n",
    "\n",
    "https://pages.cs.wisc.edu/~jerryzhu/cs540/handouts/hillclimbing.pdf\n",
    "\n",
    "https://www.geeksforgeeks.org/introduction-hill-climbing-artificial-intelligence/\n",
    "\n",
    "https://impa.br/wp-content/uploads/2017/04/10_CBM_75_03.pdf\n",
    "\n",
    "https://athena.ecs.csus.edu/~gordonvs/180/WeeklyNotes/12A_hillClimbingSimulatedAnnealing.pdf\n",
    "\n",
    "https://stats.stackexchange.com/questions/47685/calculating-log-likelihood-for-given-mle-markov-chains"
   ]
  }
 ],
 "metadata": {
  "kernelspec": {
   "display_name": "Python 3 (ipykernel)",
   "language": "python",
   "name": "python3"
  },
  "language_info": {
   "codemirror_mode": {
    "name": "ipython",
    "version": 3
   },
   "file_extension": ".py",
   "mimetype": "text/x-python",
   "name": "python",
   "nbconvert_exporter": "python",
   "pygments_lexer": "ipython3",
   "version": "3.11.7"
  }
 },
 "nbformat": 4,
 "nbformat_minor": 5
}
